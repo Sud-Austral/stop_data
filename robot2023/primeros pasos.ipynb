{
 "cells": [
  {
   "cell_type": "code",
   "execution_count": 1,
   "id": "d9805066",
   "metadata": {},
   "outputs": [
    {
     "name": "stdout",
     "output_type": "stream",
     "text": [
      "Python 3.11.4\n"
     ]
    }
   ],
   "source": [
    "!python --version"
   ]
  },
  {
   "cell_type": "code",
   "execution_count": 2,
   "id": "138a27fe",
   "metadata": {},
   "outputs": [
    {
     "name": "stderr",
     "output_type": "stream",
     "text": [
      "\"pwd\" no se reconoce como un comando interno o externo,\n",
      "programa o archivo por lotes ejecutable.\n"
     ]
    }
   ],
   "source": []
  },
  {
   "cell_type": "code",
   "execution_count": 3,
   "id": "0e2dd3c1",
   "metadata": {},
   "outputs": [],
   "source": [
    "import pandas as pd"
   ]
  },
  {
   "cell_type": "code",
   "execution_count": 7,
   "id": "cc64c3d8",
   "metadata": {},
   "outputs": [
    {
     "data": {
      "text/plain": [
       "0      4\n",
       "1      9\n",
       "2      2\n",
       "3      6\n",
       "4     10\n",
       "5    200\n",
       "dtype: int64"
      ]
     },
     "execution_count": 7,
     "metadata": {},
     "output_type": "execute_result"
    }
   ],
   "source": [
    "naranjas = pd.Series([4,9,2,6,10,200])\n",
    "naranjas"
   ]
  },
  {
   "cell_type": "code",
   "execution_count": 11,
   "id": "a0d5360e",
   "metadata": {},
   "outputs": [
    {
     "data": {
      "text/plain": [
       "0        rojo\n",
       "1        azul\n",
       "2    amarillo\n",
       "3       verde\n",
       "4      morado\n",
       "dtype: object"
      ]
     },
     "execution_count": 11,
     "metadata": {},
     "output_type": "execute_result"
    }
   ],
   "source": [
    "colores = pd.Series([\"rojo\",\"azul\",\"amarillo\",\"verde\",\"morado\"])\n",
    "colores"
   ]
  },
  {
   "cell_type": "code",
   "execution_count": 13,
   "id": "40c458dd",
   "metadata": {},
   "outputs": [
    {
     "data": {
      "text/plain": [
       "dtype('int64')"
      ]
     },
     "execution_count": 13,
     "metadata": {},
     "output_type": "execute_result"
    }
   ],
   "source": [
    "materias = pd.Series({\"Mate\":60,\"Fisica\":100,\"quimica\":78})\n",
    "materias.dtype"
   ]
  },
  {
   "cell_type": "code",
   "execution_count": 16,
   "id": "379daa41",
   "metadata": {},
   "outputs": [
    {
     "data": {
      "text/plain": [
       "3"
      ]
     },
     "execution_count": 16,
     "metadata": {},
     "output_type": "execute_result"
    }
   ],
   "source": [
    "materias.size"
   ]
  },
  {
   "cell_type": "code",
   "execution_count": 17,
   "id": "b708b22a",
   "metadata": {},
   "outputs": [
    {
     "data": {
      "text/plain": [
       "Index(['Mate', 'Fisica', 'quimica'], dtype='object')"
      ]
     },
     "execution_count": 17,
     "metadata": {},
     "output_type": "execute_result"
    }
   ],
   "source": [
    "materias.index"
   ]
  },
  {
   "cell_type": "code",
   "execution_count": 18,
   "id": "ee4456ad",
   "metadata": {},
   "outputs": [
    {
     "data": {
      "text/plain": [
       "dtype('int64')"
      ]
     },
     "execution_count": 18,
     "metadata": {},
     "output_type": "execute_result"
    }
   ],
   "source": [
    "materias.dtype"
   ]
  },
  {
   "cell_type": "code",
   "execution_count": 24,
   "id": "a70fa912",
   "metadata": {},
   "outputs": [
    {
     "data": {
      "text/plain": [
       "100"
      ]
     },
     "execution_count": 24,
     "metadata": {},
     "output_type": "execute_result"
    }
   ],
   "source": [
    "materias[1:]"
   ]
  },
  {
   "cell_type": "code",
   "execution_count": null,
   "id": "21bd967f",
   "metadata": {},
   "outputs": [],
   "source": []
  }
 ],
 "metadata": {
  "kernelspec": {
   "display_name": "Python 3 (ipykernel)",
   "language": "python",
   "name": "python3"
  },
  "language_info": {
   "codemirror_mode": {
    "name": "ipython",
    "version": 3
   },
   "file_extension": ".py",
   "mimetype": "text/x-python",
   "name": "python",
   "nbconvert_exporter": "python",
   "pygments_lexer": "ipython3",
   "version": "3.11.4"
  }
 },
 "nbformat": 4,
 "nbformat_minor": 5
}
